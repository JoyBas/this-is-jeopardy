{
 "cells": [
  {
   "cell_type": "markdown",
   "metadata": {},
   "source": [
    "# This is Jeopardy!\n"
   ]
  },
  {
   "cell_type": "markdown",
   "metadata": {},
   "source": [
    "#### Overview"
   ]
  },
  {
   "cell_type": "markdown",
   "metadata": {},
   "source": [
    "This project is slightly different than others you have encountered thus far. Instead of a step-by-step tutorial, this project contains a series of open-ended requirements which describe the project you'll be building. There are many possible ways to correctly fulfill all of these requirements, and you should expect to use the internet, Codecademy, and/or other resources when you encounter a problem that you cannot easily solve."
   ]
  },
  {
   "cell_type": "markdown",
   "metadata": {},
   "source": [
    "#### Project Goals"
   ]
  },
  {
   "cell_type": "markdown",
   "metadata": {},
   "source": [
    "You will work to write several functions that investigate a dataset of _Jeopardy!_ questions and answers. Filter the dataset for topics that you're interested in, compute the average difficulty of those questions, and train to become the next Jeopardy champion!"
   ]
  },
  {
   "cell_type": "markdown",
   "metadata": {},
   "source": [
    "## Prerequisites"
   ]
  },
  {
   "cell_type": "markdown",
   "metadata": {},
   "source": [
    "In order to complete this project, you should have completed the Pandas lessons in the <a href=\"https://www.codecademy.com/learn/paths/analyze-data-with-python\">Analyze Data with Python Skill Path</a>. You can also find those lessons in the <a href=\"https://www.codecademy.com/learn/data-processing-pandas\">Data Analysis with Pandas course</a> or the <a href=\"https://www.codecademy.com/learn/paths/data-science/\">Data Scientist Career Path</a>.\n",
    "\n",
    "Finally, the <a href=\"https://www.codecademy.com/learn/practical-data-cleaning\">Practical Data Cleaning</a> course may also be helpful."
   ]
  },
  {
   "cell_type": "markdown",
   "metadata": {},
   "source": [
    "## Project Requirements"
   ]
  },
  {
   "cell_type": "markdown",
   "metadata": {},
   "source": [
    "1. We've provided a csv file containing data about the game show _Jeopardy!_ in a file named `jeopardy.csv`. Load the data into a DataFrame and investigate its contents. Try to print out specific columns.\n",
    "\n",
    "   Note that in order to make this project as \"real-world\" as possible, we haven't modified the data at all - we're giving it to you exactly how we found it. As a result, this data isn't as \"clean\" as the datasets you normally find on Codecademy. More specifically, there's something odd about the column names. After you figure out the problem with the column names, you may want to rename them to make your life easier for the rest of the project.\n",
    "   \n",
    "   In order to display the full contents of a column, we've added this line of code for you:\n",
    "   \n",
    "   ```py\n",
    "   pd.set_option('display.max_colwidth', None)\n",
    "   ```"
   ]
  },
  {
   "cell_type": "code",
   "execution_count": 1,
   "metadata": {},
   "outputs": [
    {
     "name": "stdout",
     "output_type": "stream",
     "text": [
      "Index(['Show Number', 'Air Date', 'Round', 'Category', 'Value', 'Question',\n",
      "       'Answer'],\n",
      "      dtype='object')\n",
      "0                             Copernicus\n",
      "1                             Jim Thorpe\n",
      "2                                Arizona\n",
      "3                             McDonald's\n",
      "4                             John Adams\n",
      "                       ...              \n",
      "216925                          Turandot\n",
      "216926                        a titmouse\n",
      "216927                      Clive Barker\n",
      "216928                          Geronimo\n",
      "216929    Grigori Alexandrovich Potemkin\n",
      "Name: Answer, Length: 216930, dtype: object\n"
     ]
    },
    {
     "data": {
      "text/html": [
       "<div>\n",
       "<style scoped>\n",
       "    .dataframe tbody tr th:only-of-type {\n",
       "        vertical-align: middle;\n",
       "    }\n",
       "\n",
       "    .dataframe tbody tr th {\n",
       "        vertical-align: top;\n",
       "    }\n",
       "\n",
       "    .dataframe thead th {\n",
       "        text-align: right;\n",
       "    }\n",
       "</style>\n",
       "<table border=\"1\" class=\"dataframe\">\n",
       "  <thead>\n",
       "    <tr style=\"text-align: right;\">\n",
       "      <th></th>\n",
       "      <th>Show Number</th>\n",
       "      <th>Air Date</th>\n",
       "      <th>Round</th>\n",
       "      <th>Category</th>\n",
       "      <th>Value</th>\n",
       "      <th>Question</th>\n",
       "      <th>Answer</th>\n",
       "    </tr>\n",
       "  </thead>\n",
       "  <tbody>\n",
       "    <tr>\n",
       "      <th>0</th>\n",
       "      <td>4680</td>\n",
       "      <td>2004-12-31</td>\n",
       "      <td>Jeopardy!</td>\n",
       "      <td>HISTORY</td>\n",
       "      <td>$200</td>\n",
       "      <td>For the last 8 years of his life, Galileo was under house arrest for espousing this man's theory</td>\n",
       "      <td>Copernicus</td>\n",
       "    </tr>\n",
       "    <tr>\n",
       "      <th>1</th>\n",
       "      <td>4680</td>\n",
       "      <td>2004-12-31</td>\n",
       "      <td>Jeopardy!</td>\n",
       "      <td>ESPN's TOP 10 ALL-TIME ATHLETES</td>\n",
       "      <td>$200</td>\n",
       "      <td>No. 2: 1912 Olympian; football star at Carlisle Indian School; 6 MLB seasons with the Reds, Giants &amp; Braves</td>\n",
       "      <td>Jim Thorpe</td>\n",
       "    </tr>\n",
       "    <tr>\n",
       "      <th>2</th>\n",
       "      <td>4680</td>\n",
       "      <td>2004-12-31</td>\n",
       "      <td>Jeopardy!</td>\n",
       "      <td>EVERYBODY TALKS ABOUT IT...</td>\n",
       "      <td>$200</td>\n",
       "      <td>The city of Yuma in this state has a record average of 4,055 hours of sunshine each year</td>\n",
       "      <td>Arizona</td>\n",
       "    </tr>\n",
       "    <tr>\n",
       "      <th>3</th>\n",
       "      <td>4680</td>\n",
       "      <td>2004-12-31</td>\n",
       "      <td>Jeopardy!</td>\n",
       "      <td>THE COMPANY LINE</td>\n",
       "      <td>$200</td>\n",
       "      <td>In 1963, live on \"The Art Linkletter Show\", this company served its billionth burger</td>\n",
       "      <td>McDonald's</td>\n",
       "    </tr>\n",
       "    <tr>\n",
       "      <th>4</th>\n",
       "      <td>4680</td>\n",
       "      <td>2004-12-31</td>\n",
       "      <td>Jeopardy!</td>\n",
       "      <td>EPITAPHS &amp; TRIBUTES</td>\n",
       "      <td>$200</td>\n",
       "      <td>Signer of the Dec. of Indep., framer of the Constitution of Mass., second President of the United States</td>\n",
       "      <td>John Adams</td>\n",
       "    </tr>\n",
       "  </tbody>\n",
       "</table>\n",
       "</div>"
      ],
      "text/plain": [
       "   Show Number    Air Date      Round                         Category Value  \\\n",
       "0         4680  2004-12-31  Jeopardy!                          HISTORY  $200   \n",
       "1         4680  2004-12-31  Jeopardy!  ESPN's TOP 10 ALL-TIME ATHLETES  $200   \n",
       "2         4680  2004-12-31  Jeopardy!      EVERYBODY TALKS ABOUT IT...  $200   \n",
       "3         4680  2004-12-31  Jeopardy!                 THE COMPANY LINE  $200   \n",
       "4         4680  2004-12-31  Jeopardy!              EPITAPHS & TRIBUTES  $200   \n",
       "\n",
       "                                                                                                      Question  \\\n",
       "0             For the last 8 years of his life, Galileo was under house arrest for espousing this man's theory   \n",
       "1  No. 2: 1912 Olympian; football star at Carlisle Indian School; 6 MLB seasons with the Reds, Giants & Braves   \n",
       "2                     The city of Yuma in this state has a record average of 4,055 hours of sunshine each year   \n",
       "3                         In 1963, live on \"The Art Linkletter Show\", this company served its billionth burger   \n",
       "4     Signer of the Dec. of Indep., framer of the Constitution of Mass., second President of the United States   \n",
       "\n",
       "       Answer  \n",
       "0  Copernicus  \n",
       "1  Jim Thorpe  \n",
       "2     Arizona  \n",
       "3  McDonald's  \n",
       "4  John Adams  "
      ]
     },
     "metadata": {},
     "output_type": "display_data"
    }
   ],
   "source": [
    "import pandas as pd\n",
    "from datetime import date\n",
    "pd.set_option('display.max_colwidth', None)\n",
    "\n",
    "jeopardy_data = pd.read_csv('jeopardy.csv')\n",
    "\n",
    "# remove space from left side of column names\n",
    "jeopardy_data.columns = jeopardy_data.columns.str.lstrip()\n",
    "print(jeopardy_data.columns)\n",
    "\n",
    "\n",
    "\n",
    "jeopardy_data = jeopardy_data.replace(\"()\", \"\")\n",
    "print(jeopardy_data.Answer)\n",
    "\n",
    "display(jeopardy_data.head())"
   ]
  },
  {
   "cell_type": "code",
   "execution_count": 2,
   "metadata": {},
   "outputs": [
    {
     "name": "stdout",
     "output_type": "stream",
     "text": [
      "False    216930\n",
      "dtype: int64\n"
     ]
    }
   ],
   "source": [
    "# clean dataframe\n",
    "\n",
    "# check for duplicates\n",
    "duplicates = jeopardy_data.duplicated()\n",
    "print(duplicates.value_counts())\n",
    "\n",
    "#print(jeopardy_data.Question)"
   ]
  },
  {
   "cell_type": "markdown",
   "metadata": {},
   "source": [
    "2. Write a function that filters the dataset for questions that contains all of the words in a list of words. For example, when the list `[\"King\", \"England\"]` was passed to our function, the function returned a DataFrame of 49 rows. Every row had the strings `\"King\"` and `\"England\"` somewhere in its `\" Question\"`.\n",
    "\n",
    "   Test your function by printing out the column containing the question of each row of the dataset."
   ]
  },
  {
   "cell_type": "code",
   "execution_count": 3,
   "metadata": {},
   "outputs": [
    {
     "name": "stdout",
     "output_type": "stream",
     "text": [
      "4953                 Both England's King George V & FDR put their stamp of approval on this \"King of Hobbies\"\n",
      "14912       This country's King Louis IV was nicknamed \"Louis From Overseas\" because he was raised in England\n",
      "21511                            this man and his son ruled England following the execution of King Charles I\n",
      "23810    William the Conqueror was crowned King of England in Westminster Abbey on Christmas Day in this year\n",
      "27555                      This member of the Medici family was the mother-in-law of England's King Charles I\n",
      "Name: Question, dtype: object\n"
     ]
    }
   ],
   "source": [
    "wordings = jeopardy_data.Question[(jeopardy_data.Question.str.contains('King')) & (jeopardy_data.Question.str.contains('England'))]\n",
    "\n",
    "\n",
    "def filter_data(data, words):\n",
    "    # if word(s) in words-list are ALL in the dataframe passed in - (x)\n",
    "    result =  lambda x: all(word in x for word in words)\n",
    "    # apply (result) to the Question column, .loc[] returns a filtered dataframe where True\n",
    "    return data.loc[data[\"Question\"].apply(result)]\n",
    "\n",
    "# Test function and print the Question column\n",
    "filtered_df = filter_data(jeopardy_data, ['King', 'England'])\n",
    "\n",
    "print(filtered_df.Question.head())"
   ]
  },
  {
   "cell_type": "markdown",
   "metadata": {},
   "source": [
    "3. Test your original function with a few different sets of words to try to find some ways your function breaks. Edit your function so it is more robust.\n",
    "\n",
    "   For example, think about capitalization. We probably want to find questions that contain the word `\"King\"` or `\"king\"`.\n",
    "   \n",
    "   You may also want to check to make sure you don't find rows that contain substrings of your given words. For example, our function found a question that didn't contain the word `\"king\"`, however it did contain the word `\"viking\"` &mdash; it found the `\"king\"` inside `\"viking\"`. Note that this also comes with some drawbacks &mdash; you would no longer find questions that contained words like `\"England's\"`."
   ]
  },
  {
   "cell_type": "code",
   "execution_count": 4,
   "metadata": {},
   "outputs": [
    {
     "name": "stdout",
     "output_type": "stream",
     "text": [
      "4953                    Both England's King George V & FDR put their stamp of approval on this \"King of Hobbies\"\n",
      "6337      In retaliation for Viking raids, this \"Unready\" king of England attacks Norse areas of the Isle of Man\n",
      "9191                    This king of England beat the odds to trounce the French in the 1415 Battle of Agincourt\n",
      "11710               This Scotsman, the first Stuart king of England, was called \"The Wisest Fool in Christendom\"\n",
      "13454                                       It's the number that followed the last king of England named William\n",
      "                                                           ...                                                  \n",
      "208295        In 1066 this great-great grandson of Rollo made what some call the last Viking invasion of England\n",
      "208742                      Dutch-born king who ruled England jointly with Mary II & is a tasty New Zealand fish\n",
      "213870                In 1781 William Herschel discovered Uranus & initially named it after this king of England\n",
      "216021          His nickname was \"Bertie\", but he used this name & number when he became king of England in 1901\n",
      "216789        This kingdom of England grew from 2 settlements, one founded around 495 by Cerdic & his son Cynric\n",
      "Name: Question, Length: 152, dtype: object\n"
     ]
    }
   ],
   "source": [
    "wordings = jeopardy_data.Question[(jeopardy_data.Question.str.contains('King')) & (jeopardy_data.Question.str.contains('England'))]\n",
    "#return data.loc[jeopardy_data['Question'].str.contains('|'.join(searchfor)]\n",
    "\n",
    "def filter_data(data, words):\n",
    "    # if word(s) in words-list are ALL in the dataframe passed in - (x)\n",
    "    result =  lambda x: all(word.lower() in x.lower() for word in words)\n",
    "    # apply (result) to the Question column, .loc[] returns a filtered dataframe where True\n",
    "    return data.loc[data[\"Question\"].apply(result)]\n",
    "\n",
    "# Test function and print the Question column\n",
    "filtered_df = filter_data(jeopardy_data, ['King', 'England'])\n",
    "print(filtered_df.Question)"
   ]
  },
  {
   "cell_type": "markdown",
   "metadata": {},
   "source": [
    "4. We may want to eventually compute aggregate statistics, like `.mean()` on the `\" Value\"` column. But right now, the values in that column are strings. Convert the`\" Value\"` column to floats. If you'd like to, you can create a new column with float values.\n",
    "\n",
    "   Now that you can filter the dataset of question, use your new column that contains the float values of each question to find the \"difficulty\" of certain topics. For example, what is the average value of questions that contain the word `\"King\"`?\n",
    "   \n",
    "   Make sure to use the dataset that contains the float values as the dataset you use in your filtering function."
   ]
  },
  {
   "cell_type": "code",
   "execution_count": 5,
   "metadata": {},
   "outputs": [
    {
     "name": "stdout",
     "output_type": "stream",
     "text": [
      "False    216930\n",
      "dtype: int64\n",
      "The average of the Value column is 739.9884755451067\n",
      "The average value of questions with the word \"King\" is 771.8833850722094\n"
     ]
    }
   ],
   "source": [
    "# check for duplicates - (no duplicates)\n",
    "duplicates = jeopardy_data.duplicated()\n",
    "print(duplicates.value_counts())\n",
    "\n",
    "# replace None with 0, strip the dollar and comma, change value to float \n",
    "jeopardy_data['Float_value'] = jeopardy_data.Value.replace('None', 0)\n",
    "jeopardy_data['Float_value'] = jeopardy_data.Float_value.replace('[\\$,]', '', regex=True)\n",
    "jeopardy_data['Float_value']= pd.to_numeric(jeopardy_data.Float_value)\n",
    "#print(jeopardy_data.Float_value) #print to check if values have been converted to float\n",
    "\n",
    "value_mean = jeopardy_data.Float_value.mean()\n",
    "print('The average of the Value column is', value_mean)\n",
    "\n",
    "\n",
    "filtered = filter_data(jeopardy_data, ['King'])\n",
    "avg = (filtered['Float_value']).mean()\n",
    "print('The average value of questions with the word \"King\" is', avg)"
   ]
  },
  {
   "cell_type": "markdown",
   "metadata": {},
   "source": [
    "5. Write a function that returns the count of unique answers to all of the questions in a dataset. For example, after filtering the entire dataset to only questions containing the word `\"King\"`, we could then find all of the unique answers to those questions. The answer \"Henry VIII\" appeared 55 times and was the most common answer."
   ]
  },
  {
   "cell_type": "code",
   "execution_count": 6,
   "metadata": {
    "scrolled": true
   },
   "outputs": [
    {
     "name": "stdout",
     "output_type": "stream",
     "text": [
      "5268\n"
     ]
    }
   ],
   "source": [
    "def count_unique_answers(data):\n",
    "    return data.Answer.nunique()\n",
    "\n",
    "# Test function\n",
    "print(count_unique_answers(filtered))\n"
   ]
  },
  {
   "cell_type": "markdown",
   "metadata": {},
   "source": [
    "6. Explore from here! This is an incredibly rich dataset, and there are so many interesting things to discover. There are a few columns that we haven't even started looking at yet. Here are some ideas on ways to continue working with this data:\n",
    "\n",
    " * Investigate the ways in which questions change over time by filtering by the date. How many questions from the 90s use the word `\"Computer\"` compared to questions from the 2000s?\n",
    " * Is there a connection between the round and the category? Are you more likely to find certain categories, like `\"Literature\"` in Single Jeopardy or Double Jeopardy?\n",
    " * Build a system to quiz yourself. Grab random questions, and use the <a href=\"https://docs.python.org/3/library/functions.html#input\">input</a> function to get a response from the user. Check to see if that response was right or wrong."
   ]
  },
  {
   "cell_type": "code",
   "execution_count": 7,
   "metadata": {},
   "outputs": [
    {
     "name": "stdout",
     "output_type": "stream",
     "text": [
      "There are 98 questions with the word \"Computers\" from the 1990s\n",
      "The are 268 questions with the word \"Computers\" from the 2000s\n"
     ]
    }
   ],
   "source": [
    "# Number of questions from the 90s that use the word \"computer\"\n",
    "df_1990s = jeopardy_data[(jeopardy_data['Air Date'] >= '1990-01-01') & (jeopardy_data['Air Date'] <= '1999-12-31')]\n",
    "#display(df_1990s)\n",
    "filtered = filter_data(df_1990s, ['Computer'])\n",
    "print('There are', filtered.Question.count(), 'questions with the word \"Computers\" from the 1990s')\n",
    "\n",
    "# Number of questions from the 2000s that use the word \"computer\"\n",
    "df_2000s = jeopardy_data[(jeopardy_data['Air Date'] >= '2000-01-01') & (jeopardy_data['Air Date'] <= '2009-12-31')]\n",
    "#display(df_2000s)\n",
    "filtered = filter_data(df_2000s, ['Computer'])\n",
    "print('The are', filtered.Question.count(), 'questions with the word \"Computers\" from the 2000s')\n"
   ]
  },
  {
   "cell_type": "code",
   "execution_count": 8,
   "metadata": {},
   "outputs": [
    {
     "name": "stdout",
     "output_type": "stream",
     "text": [
      "Single Jeopardy: 105\n",
      "Double Jeopardy: 381\n"
     ]
    }
   ],
   "source": [
    "# connection between the round and the category?\n",
    "\n",
    "#print(jeopardy_data.Round.unique()) \n",
    "#print(jeopardy_data.Category.unique())\n",
    "\n",
    "# filter Category(History) and Round(Jeopardy!)\n",
    "df_single_jeopardy = len(jeopardy_data[(jeopardy_data.Category == 'LITERATURE') & (jeopardy_data.Round == 'Jeopardy!')])\n",
    "print('Single Jeopardy:', df_single_jeopardy)\n",
    "\n",
    "# filter Category(History) and Round(Jeopardy!)\n",
    "df_double_jeopardy = len(jeopardy_data[(jeopardy_data.Category == 'LITERATURE') & (jeopardy_data.Round == 'Double Jeopardy!')])\n",
    "print('Double Jeopardy:', df_double_jeopardy)\n",
    "\n"
   ]
  },
  {
   "cell_type": "markdown",
   "metadata": {},
   "source": [
    "It is more likely to find `Literature` in Double Jeopardy than in Single Jeopardy."
   ]
  },
  {
   "cell_type": "code",
   "execution_count": null,
   "metadata": {
    "scrolled": true
   },
   "outputs": [
    {
     "name": "stdout",
     "output_type": "stream",
     "text": [
      "Do you wanna play?\n"
     ]
    }
   ],
   "source": [
    "# Game\n",
    "\n",
    "def play_game(df):\n",
    "    correct = 0\n",
    "    incorrect = 0\n",
    "    lives = 3\n",
    "    wrong_input = 5\n",
    "    while True:\n",
    "        try:\n",
    "            print('Do you wanna play?')\n",
    "            response = input('y or n: ').lower()\n",
    "            if (response == 'y'):\n",
    "                print('Here is your question!')\n",
    "                # select a random row from the jeopardy_data\n",
    "                random_row = jeopardy_data.sample()\n",
    "                # replace html tags with empty string if the question has tags(i.e the question in the random row)\n",
    "                question = random_row['Question'].replace('<.*?>', '', regex=True)\n",
    "                # using (*) before the variable and (sep='\\n') stops the 'Name' and 'dtype' from printing out\n",
    "                print(*question, sep='\\n')\n",
    "                answer = random_row['Answer'].str.lower()\n",
    "                # if you want to see the answer, uncomment the next line\n",
    "                print(list(answer))\n",
    "                print('What is your answer?')\n",
    "                user_answer = input().lower()\n",
    "                if (user_answer == answer).all():\n",
    "                    correct += 1\n",
    "                    lives += 0\n",
    "                    print('Correct ! You have '+ str(correct) + ' correct answer(s) and ' + str(incorrect) + ' incorrect answer(s)')\n",
    "                    if lives == 1:\n",
    "                        print('You still have ' + str(lives) + ' life')\n",
    "                        continue\n",
    "                    print('You still have ' + str(lives) + ' lives')\n",
    "                else:\n",
    "                    incorrect += 1\n",
    "                    lives -= 1\n",
    "                    # using (*) before the variable and (sep='\\n') stops the 'Name' and 'dtype' from printing out\n",
    "                    print(*'Correct Answer is: ' + random_row.Answer, sep='\\n')\n",
    "                    print('You have '+ str(correct) + ' correct answer(s) and ' + str(incorrect) + ' incorrect answer(s)')\n",
    "                    if lives == 1:\n",
    "                        print('You have ' + str(lives) + ' life left')\n",
    "                        continue\n",
    "                    if lives < 1:\n",
    "                        print('You are out of lives')\n",
    "                        break\n",
    "                    print('You have ' + str(lives) + ' lives left')\n",
    "                    continue\n",
    "            elif response == 'n':\n",
    "                print('Sorry to see you go')\n",
    "                break\n",
    "            else:\n",
    "                print('Enter \"y\" or \"n\" to continue')\n",
    "                # the wrong input variable allows for a maximum of 5 wrong inputs\n",
    "                wrong_input -= 1\n",
    "                if wrong_input < 1:\n",
    "                    print('Several wrong inputs. Start over!')\n",
    "                    break\n",
    "        except:\n",
    "            print('not a valid character')\n",
    "            continue        \n",
    "                    \n",
    "play_game(jeopardy_data)                    "
   ]
  },
  {
   "cell_type": "markdown",
   "metadata": {},
   "source": [
    "## Solution"
   ]
  },
  {
   "cell_type": "markdown",
   "metadata": {},
   "source": [
    "7. Compare your program to our <a href=\"https://content.codecademy.com/PRO/independent-practice-projects/jeopardy/jeopardy_solution.zip\">sample solution code</a> - remember, that your program might look different from ours (and probably will) and that's okay!"
   ]
  },
  {
   "cell_type": "markdown",
   "metadata": {},
   "source": [
    "8. Great work! Visit <a href=\"https://discuss.codecademy.com/t/this-is-jeopardy-challenge-project-python-pandas/462365\">our forums</a> to compare your project to our sample solution code. You can also learn how to host your own solution on GitHub so you can share it with other learners! Your solution might look different from ours, and that's okay! There are multiple ways to solve these projects, and you'll learn more by seeing others' code."
   ]
  }
 ],
 "metadata": {
  "kernelspec": {
   "display_name": "Python 3",
   "language": "python",
   "name": "python3"
  },
  "language_info": {
   "codemirror_mode": {
    "name": "ipython",
    "version": 3
   },
   "file_extension": ".py",
   "mimetype": "text/x-python",
   "name": "python",
   "nbconvert_exporter": "python",
   "pygments_lexer": "ipython3",
   "version": "3.8.3"
  }
 },
 "nbformat": 4,
 "nbformat_minor": 2
}
